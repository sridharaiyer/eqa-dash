{
 "cells": [
  {
   "cell_type": "code",
   "execution_count": 1,
   "metadata": {},
   "outputs": [],
   "source": [
    "import pandas as pd\n",
    "from pathlib import Path"
   ]
  },
  {
   "cell_type": "code",
   "execution_count": 2,
   "metadata": {},
   "outputs": [],
   "source": [
    "import numpy as np\n",
    "from collections import Counter\n",
    "import os\n",
    "from datetime import datetime\n",
    "from functools import reduce\n",
    "import plotly.express as px"
   ]
  },
  {
   "cell_type": "code",
   "execution_count": 3,
   "metadata": {},
   "outputs": [],
   "source": [
    "METRICS_DATA_DIR = Path.home()/'eqa-dash-data'"
   ]
  },
  {
   "cell_type": "code",
   "execution_count": 4,
   "metadata": {},
   "outputs": [],
   "source": [
    "def isTrueMetrics(metrics_file_path):\n",
    "    MANDATORY_SHEETS = ['Hours', 'Scripts', 'Comments']\n",
    "    df = pd.read_excel(metrics_file_path, None)\n",
    "\n",
    "    if sorted(MANDATORY_SHEETS) != sorted(df.keys()):\n",
    "        return False\n",
    "    \n",
    "    df_sheet = pd.read_excel(metrics_file_path, sheet_name='Hours')\n",
    "    for col in ['Date', 'Day', 'Hours']:\n",
    "        if not col in df_sheet: return False \n",
    "    \n",
    "    df_sheet = pd.read_excel(metrics_file_path, sheet_name='Scripts')\n",
    "    for col in ['Date', 'Day']:\n",
    "        if not col in df_sheet: return False \n",
    "    \n",
    "    return True"
   ]
  },
  {
   "cell_type": "code",
   "execution_count": 5,
   "metadata": {},
   "outputs": [],
   "source": [
    "files_xlsx = [f for f in METRICS_DATA_DIR.iterdir()\n",
    "              if ((f.is_file()) & (f.suffix == '.xlsx') & (f.stem[:2] != '~$'))\n",
    "            ]\n",
    "files_xlsx = list(filter(lambda f: isTrueMetrics(f), files_xlsx))\n",
    "df_persons = {}"
   ]
  },
  {
   "cell_type": "code",
   "execution_count": 6,
   "metadata": {},
   "outputs": [
    {
     "data": {
      "text/plain": [
       "[PosixPath('/Users/sridhariyer/eqa-dash-data/Felipe_Metrics.xlsx'),\n",
       " PosixPath('/Users/sridhariyer/eqa-dash-data/Priya_Metrics.xlsx'),\n",
       " PosixPath('/Users/sridhariyer/eqa-dash-data/Rajesh_Metrics.xlsx'),\n",
       " PosixPath('/Users/sridhariyer/eqa-dash-data/Venkatesh_Metrics.xlsx'),\n",
       " PosixPath('/Users/sridhariyer/eqa-dash-data/Praveen_Metrics.xlsx'),\n",
       " PosixPath('/Users/sridhariyer/eqa-dash-data/Sasi_Metrics.xlsx'),\n",
       " PosixPath('/Users/sridhariyer/eqa-dash-data/Karthik_Metrics.xlsx'),\n",
       " PosixPath('/Users/sridhariyer/eqa-dash-data/Abhishek_Metrics.xlsx')]"
      ]
     },
     "execution_count": 6,
     "metadata": {},
     "output_type": "execute_result"
    }
   ],
   "source": [
    "files_xlsx"
   ]
  },
  {
   "cell_type": "code",
   "execution_count": 7,
   "metadata": {},
   "outputs": [
    {
     "data": {
      "text/plain": [
       "8"
      ]
     },
     "execution_count": 7,
     "metadata": {},
     "output_type": "execute_result"
    }
   ],
   "source": [
    "len(files_xlsx)"
   ]
  },
  {
   "cell_type": "code",
   "execution_count": null,
   "metadata": {},
   "outputs": [],
   "source": [
    "start_date = '01-01-2020'\n",
    "end_date = '12-31-2020'"
   ]
  },
  {
   "cell_type": "code",
   "execution_count": null,
   "metadata": {},
   "outputs": [],
   "source": [
    "def isTrueMetrics(metrics_file_path):\n",
    "    MANDATORY_SHEETS = ['Hours', 'Scripts', 'Comments']\n",
    "    df = pd.read_excel(metrics_file_path, None)\n",
    "\n",
    "    if sorted(MANDATORY_SHEETS) != sorted(df.keys()):\n",
    "        print(f'{sorted(MANDATORY_SHEETS)} -- {sorted(df.keys())}')\n",
    "        return False\n",
    "    \n",
    "    df_sheet = pd.read_excel(metrics_file_path, sheet_name='Hours')\n",
    "    for col in ['Date', 'Day', 'Hours']:\n",
    "        if not col in df_sheet: return False \n",
    "    \n",
    "    df_sheet = pd.read_excel(metrics_file_path, sheet_name='Scripts')\n",
    "    for col in ['Date', 'Day']:\n",
    "        if not col in df_sheet: return False \n",
    "    \n",
    "    return True"
   ]
  },
  {
   "cell_type": "code",
   "execution_count": null,
   "metadata": {},
   "outputs": [],
   "source": []
  },
  {
   "cell_type": "code",
   "execution_count": null,
   "metadata": {},
   "outputs": [],
   "source": [
    "def get_df_total_hours(start_date, end_date):\n",
    "    for f in files_xlsx:\n",
    "        if isTrueMetrics(f):\n",
    "            person_name = f.stem[:f.stem.index('_')]\n",
    "            df_person = pd.read_excel(f, index_col='Date', sheet_name='Hours')\n",
    "            df_person = df_person.loc[start_date:end_date]\n",
    "            df_person.drop(['Day'], axis=1, inplace=True)\n",
    "            df_person.drop(['Hours'], axis=1, inplace=True)\n",
    "            float_cols = df_person.select_dtypes(include=['float64']).columns\n",
    "            str_cols = df_person.select_dtypes(include=['object']).columns\n",
    "            df_person.loc[:,\n",
    "                          float_cols] = df_person.loc[:, float_cols].fillna(0)\n",
    "            df_person.loc[:,\n",
    "                          str_cols] = df_person.loc[:, str_cols].fillna('')\n",
    "\n",
    "            df_persons[person_name] = df_person\n",
    "\n",
    "    # Combinaing all XLSX df into 1 and summing the project hours\n",
    "    df_hours_series = reduce(lambda x, y: x.add(y, fill_value=0),\n",
    "                             [df for df in df_persons.values()])\n",
    "    \n",
    "    df_total = pd.DataFrame(\n",
    "        {\n",
    "            'Projects': pd.Series(df_hours_series.sum().index),\n",
    "            'Hours': pd.Series(df_hours_series.sum().values)\n",
    "        }\n",
    "    )\n",
    "    \n",
    "    df_total = df_total[df_total['Hours'] > 0]\n",
    "    \n",
    "    return df_total"
   ]
  },
  {
   "cell_type": "code",
   "execution_count": null,
   "metadata": {},
   "outputs": [],
   "source": [
    "df_total_hours = get_df_total_hours(start_date, end_date)\n",
    "df_total_hours"
   ]
  },
  {
   "cell_type": "code",
   "execution_count": null,
   "metadata": {},
   "outputs": [],
   "source": [
    "len(df_total_hours)"
   ]
  },
  {
   "cell_type": "code",
   "execution_count": null,
   "metadata": {},
   "outputs": [],
   "source": [
    "fig = px.bar(df_total_hours, x='Projects',y='Hours')\n",
    "fig.update_layout(\n",
    "#     title=\"Total Hours Per Project in Q2-2020\",\n",
    "    title=f\"Total Hours Per Project from {start_date} to {end_date}\",\n",
    "    autosize=False,\n",
    "    width=1000,\n",
    "    height=800,\n",
    "    xaxis = dict(\n",
    "    title_text=\"\"))\n",
    "fig.update_xaxes(automargin=True)\n",
    "fig.show()"
   ]
  },
  {
   "cell_type": "code",
   "execution_count": null,
   "metadata": {},
   "outputs": [],
   "source": [
    "# --------------------------------------------------------------------------------\n",
    "# Adding 'Type' to the df_total_hours\n",
    "# --------------------------------------------------------------------------------\n",
    "df_total_hours['Type'] = df_total_hours['Projects'].str.replace(\n",
    "    '-', ' ').str.split(n=1, expand=True)[0]\n",
    "df_total_hours['Projects'] = df_total_hours['Projects'].str.split('-', n=1).str[1].str.strip()\n",
    "df_total_hours"
   ]
  },
  {
   "cell_type": "code",
   "execution_count": null,
   "metadata": {},
   "outputs": [],
   "source": [
    "# del df_projtype"
   ]
  },
  {
   "cell_type": "code",
   "execution_count": null,
   "metadata": {},
   "outputs": [],
   "source": [
    "# --------------------------------------------------------------------------------\n",
    "# Get hours and count for each type of project\n",
    "# --------------------------------------------------------------------------------\n",
    "\n",
    "df_projtype = (df_total_hours.groupby('Type')['Hours']\n",
    "                        .agg(Hours='sum', Count='count')\n",
    "                        .reset_index()\n",
    "              ).set_index('Type')\n",
    "df_projtype"
   ]
  },
  {
   "cell_type": "code",
   "execution_count": null,
   "metadata": {},
   "outputs": [],
   "source": [
    "# --------------------------------------------------------------------------------\n",
    "# Project type hours pie\n",
    "# --------------------------------------------------------------------------------\n",
    "fig2 = px.pie(df_projtype,\n",
    "              values='Hours',\n",
    "              names=df_projtype.index,\n",
    "              title=f'Hours spent by Project Type from {start_date} to {end_date}')\n",
    "\n",
    "fig2.update_traces(textposition='inside',\n",
    "                   textinfo='value+label',\n",
    "                   automargin=True)"
   ]
  },
  {
   "cell_type": "code",
   "execution_count": null,
   "metadata": {},
   "outputs": [],
   "source": [
    "import plotly.graph_objects as go\n",
    "\n",
    "core_df = df_total_hours[(df_total_hours['Type'] == 'Core')]['Projects']\n",
    "mobile_df = df_total_hours[(df_total_hours['Type'] == 'Mobile')]['Projects']\n",
    "poc_df = df_total_hours[(df_total_hours['Type'] == 'POC')]['Projects']\n",
    "\n",
    "fig = go.Figure(data=[go.Table(\n",
    "    header=dict(values=list(['Core Projects', 'Mobile Projects', 'POCs']),\n",
    "                fill_color='paleturquoise',\n",
    "                align='left',\n",
    "                font_size=18,\n",
    "                height=38\n",
    "               ),\n",
    "    cells=dict(values=[core_df,mobile_df,poc_df],\n",
    "               fill_color='lavender',\n",
    "               align='left',\n",
    "                font_size=16,\n",
    "                height=35\n",
    "              )\n",
    "    \n",
    ")\n",
    "])\n",
    "\n",
    "fig.update_layout(\n",
    "    autosize=True,\n",
    "    height=(max([len(core_df), len(mobile_df), len(poc_df)])/2)*100,\n",
    ")\n",
    "\n",
    "fig.show()"
   ]
  },
  {
   "cell_type": "code",
   "execution_count": null,
   "metadata": {},
   "outputs": [],
   "source": [
    "(max([len(core_df), len(mobile_df), len(poc_df)])/2)*100"
   ]
  },
  {
   "cell_type": "code",
   "execution_count": null,
   "metadata": {},
   "outputs": [],
   "source": [
    "fig3 = px.bar(df_projtype, y=\"Count\", text=df_projtype.index)\n",
    "fig3.update_layout(\n",
    "    title=f\"Number of Project Types from {start_date} to {end_date}\",\n",
    "    autosize=True,\n",
    "    xaxis={\n",
    "        'showticklabels':False\n",
    "    },\n",
    "    margin={\n",
    "#         'l':50,\n",
    "#         'r':50,\n",
    "#         'b':100,\n",
    "        't':100,\n",
    "#         'pad':4\n",
    "        }\n",
    ")\n",
    "\n",
    "fig3.update_traces(textposition='inside')\n",
    "fig3.update_xaxes(automargin=True)"
   ]
  },
  {
   "cell_type": "code",
   "execution_count": null,
   "metadata": {},
   "outputs": [],
   "source": [
    "[range(1,5)]"
   ]
  },
  {
   "cell_type": "code",
   "execution_count": null,
   "metadata": {},
   "outputs": [],
   "source": []
  }
 ],
 "metadata": {
  "kernelspec": {
   "display_name": "Python 3",
   "language": "python",
   "name": "python3"
  },
  "language_info": {
   "codemirror_mode": {
    "name": "ipython",
    "version": 3
   },
   "file_extension": ".py",
   "mimetype": "text/x-python",
   "name": "python",
   "nbconvert_exporter": "python",
   "pygments_lexer": "ipython3",
   "version": "3.8.5"
  }
 },
 "nbformat": 4,
 "nbformat_minor": 4
}
